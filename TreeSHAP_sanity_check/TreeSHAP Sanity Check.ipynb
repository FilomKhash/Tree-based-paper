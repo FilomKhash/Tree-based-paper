{
 "cells": [
  {
   "cell_type": "markdown",
   "metadata": {},
   "source": [
    "The goal of this notebook is to verify the formulas obtained for the marginal Shapley values and TreeSHAP for two simple trees appearing in Example 3.1 of the paper. "
   ]
  },
  {
   "cell_type": "code",
   "execution_count": 1,
   "metadata": {},
   "outputs": [],
   "source": [
    "import json\n",
    "import numpy as np\n",
    "import random\n",
    "import matplotlib.pyplot as plt\n",
    "import graphviz\n",
    "\n",
    "import sklearn\n",
    "from sklearn import tree\n",
    "from sklearn.tree import DecisionTreeRegressor\n",
    "\n",
    "import shap"
   ]
  },
  {
   "cell_type": "code",
   "execution_count": 2,
   "metadata": {},
   "outputs": [
    {
     "data": {
      "text/plain": [
       "'0.21'"
      ]
     },
     "execution_count": 2,
     "metadata": {},
     "output_type": "execute_result"
    }
   ],
   "source": [
    "import catboost\n",
    "catboost.__version__\n",
    "#CatBoost version=0.21"
   ]
  },
  {
   "cell_type": "code",
   "execution_count": 3,
   "metadata": {},
   "outputs": [
    {
     "data": {
      "image/png": "[encoded data removed]",
      "text/plain": [
       "<Figure size 432x288 with 1 Axes>"
      ]
     },
     "metadata": {
      "needs_background": "light"
     },
     "output_type": "display_data"
    }
   ],
   "source": [
    "#Generating and visualizing the data\n",
    "random.seed(5)\n",
    "X=np.zeros([100,2])\n",
    "\n",
    "for i in range(0,30):\n",
    "    X[i][0]=0.02*(random.random()-0.5)-0.3\n",
    "    X[i][1]=0.02*(random.random()-0.5)-0.3\n",
    "for i in range(30,55):\n",
    "    X[i][0]=0.02*(random.random()-0.5)+0.3\n",
    "    X[i][1]=0.02*(random.random()-0.5)-0.3\n",
    "for i in range(55,80):\n",
    "    X[i][0]=0.02*(random.random()-0.5)-0.3\n",
    "    X[i][1]=0.02*(random.random()-0.5)+0.3\n",
    "for i in range(80,100):\n",
    "    X[i][0]=0.02*(random.random()-0.5)+0.3\n",
    "    X[i][1]=0.02*(random.random()-0.5)+0.3\n",
    "\n",
    "plt.plot((-1,1),(0,0),'g')\n",
    "plt.plot((0,0),(-1,1),'g')\n",
    "plt.scatter(X[:,0],X[:,1])\n",
    "plt.show()"
   ]
  },
  {
   "cell_type": "code",
   "execution_count": 4,
   "metadata": {},
   "outputs": [],
   "source": [
    "#Values for the response variable\n",
    "y=np.zeros([100,1])\n",
    "for i in range(0,100):\n",
    "    if X[i][1]<0:\n",
    "        y[i]=1\n",
    "    elif X[i][0]<0:\n",
    "        y[i]=2\n",
    "    else:\n",
    "        y[i]=3"
   ]
  },
  {
   "cell_type": "markdown",
   "metadata": {},
   "source": [
    "We start we the asymmetric tree. "
   ]
  },
  {
   "cell_type": "code",
   "execution_count": 5,
   "metadata": {},
   "outputs": [
    {
     "data": {
      "image/svg+xml": [
       "<?xml version=\"1.0\" encoding=\"UTF-8\" standalone=\"no\"?>\n",
       "<!DOCTYPE svg PUBLIC \"-//W3C//DTD SVG 1.1//EN\"\n",
       " \"http://www.w3.org/Graphics/SVG/1.1/DTD/svg11.dtd\">\n",
       "<!-- Generated by graphviz version 2.30.1 (20200304.1809)\n",
       " -->\n",
       "<!-- Title: Tree Pages: 1 -->\n",
       "<svg width=\"268pt\" height=\"270pt\"\n",
       " viewBox=\"0.00 0.00 268.00 270.00\" xmlns=\"http://www.w3.org/2000/svg\" xmlns:xlink=\"http://www.w3.org/1999/xlink\">\n",
       "<g id=\"graph0\" class=\"graph\" transform=\"scale(1 1) rotate(0) translate(4 266)\">\n",
       "<title>Tree</title>\n",
       "<polygon fill=\"white\" stroke=\"white\" points=\"-4,5 -4,-266 265,-266 265,5 -4,5\"/>\n",
       "<!-- 0 -->\n",
       "<g id=\"node1\" class=\"node\"><title>0</title>\n",
       "<polygon fill=\"none\" stroke=\"black\" points=\"152,-262 52,-262 52,-194 152,-194 152,-262\"/>\n",
       "<text text-anchor=\"middle\" x=\"102\" y=\"-246.8\" font-family=\"Times,serif\" font-size=\"14.00\">X2 &lt;= 0.001</text>\n",
       "<text text-anchor=\"middle\" x=\"102\" y=\"-231.8\" font-family=\"Times,serif\" font-size=\"14.00\">mse = 0.628</text>\n",
       "<text text-anchor=\"middle\" x=\"102\" y=\"-216.8\" font-family=\"Times,serif\" font-size=\"14.00\">samples = 100</text>\n",
       "<text text-anchor=\"middle\" x=\"102\" y=\"-201.8\" font-family=\"Times,serif\" font-size=\"14.00\">value = 1.65</text>\n",
       "</g>\n",
       "<!-- 1 -->\n",
       "<g id=\"node2\" class=\"node\"><title>1</title>\n",
       "<polygon fill=\"none\" stroke=\"black\" points=\"92,-150.5 0,-150.5 0,-97.5 92,-97.5 92,-150.5\"/>\n",
       "<text text-anchor=\"middle\" x=\"46\" y=\"-135.3\" font-family=\"Times,serif\" font-size=\"14.00\">mse = 0.0</text>\n",
       "<text text-anchor=\"middle\" x=\"46\" y=\"-120.3\" font-family=\"Times,serif\" font-size=\"14.00\">samples = 55</text>\n",
       "<text text-anchor=\"middle\" x=\"46\" y=\"-105.3\" font-family=\"Times,serif\" font-size=\"14.00\">value = 1.0</text>\n",
       "</g>\n",
       "<!-- 0&#45;&gt;1 -->\n",
       "<g id=\"edge1\" class=\"edge\"><title>0&#45;&gt;1</title>\n",
       "<path fill=\"none\" stroke=\"black\" d=\"M83.8184,-193.884C77.7804,-182.886 71.0448,-170.617 64.9503,-159.517\"/>\n",
       "<polygon fill=\"black\" stroke=\"black\" points=\"67.8916,-157.601 60.0109,-150.52 61.7556,-160.97 67.8916,-157.601\"/>\n",
       "<text text-anchor=\"middle\" x=\"53.0226\" y=\"-170.823\" font-family=\"Times,serif\" font-size=\"14.00\">True</text>\n",
       "</g>\n",
       "<!-- 2 -->\n",
       "<g id=\"node3\" class=\"node\"><title>2</title>\n",
       "<polygon fill=\"none\" stroke=\"black\" points=\"207.25,-158 110.75,-158 110.75,-90 207.25,-90 207.25,-158\"/>\n",
       "<text text-anchor=\"middle\" x=\"159\" y=\"-142.8\" font-family=\"Times,serif\" font-size=\"14.00\">X1 &lt;= 0.0</text>\n",
       "<text text-anchor=\"middle\" x=\"159\" y=\"-127.8\" font-family=\"Times,serif\" font-size=\"14.00\">mse = 0.247</text>\n",
       "<text text-anchor=\"middle\" x=\"159\" y=\"-112.8\" font-family=\"Times,serif\" font-size=\"14.00\">samples = 45</text>\n",
       "<text text-anchor=\"middle\" x=\"159\" y=\"-97.8\" font-family=\"Times,serif\" font-size=\"14.00\">value = 2.444</text>\n",
       "</g>\n",
       "<!-- 0&#45;&gt;2 -->\n",
       "<g id=\"edge2\" class=\"edge\"><title>0&#45;&gt;2</title>\n",
       "<path fill=\"none\" stroke=\"black\" d=\"M120.506,-193.884C125.285,-185.332 130.493,-176.013 135.489,-167.072\"/>\n",
       "<polygon fill=\"black\" stroke=\"black\" points=\"138.569,-168.736 140.392,-158.299 132.458,-165.321 138.569,-168.736\"/>\n",
       "<text text-anchor=\"middle\" x=\"147.2\" y=\"-178.655\" font-family=\"Times,serif\" font-size=\"14.00\">False</text>\n",
       "</g>\n",
       "<!-- 3 -->\n",
       "<g id=\"node4\" class=\"node\"><title>3</title>\n",
       "<polygon fill=\"none\" stroke=\"black\" points=\"150,-53.5 58,-53.5 58,-0.5 150,-0.5 150,-53.5\"/>\n",
       "<text text-anchor=\"middle\" x=\"104\" y=\"-38.3\" font-family=\"Times,serif\" font-size=\"14.00\">mse = 0.0</text>\n",
       "<text text-anchor=\"middle\" x=\"104\" y=\"-23.3\" font-family=\"Times,serif\" font-size=\"14.00\">samples = 25</text>\n",
       "<text text-anchor=\"middle\" x=\"104\" y=\"-8.3\" font-family=\"Times,serif\" font-size=\"14.00\">value = 2.0</text>\n",
       "</g>\n",
       "<!-- 2&#45;&gt;3 -->\n",
       "<g id=\"edge3\" class=\"edge\"><title>2&#45;&gt;3</title>\n",
       "<path fill=\"none\" stroke=\"black\" d=\"M139.764,-89.7736C134.606,-80.8648 129.021,-71.2175 123.831,-62.2542\"/>\n",
       "<polygon fill=\"black\" stroke=\"black\" points=\"126.844,-60.4721 118.805,-53.5715 120.786,-63.9794 126.844,-60.4721\"/>\n",
       "</g>\n",
       "<!-- 4 -->\n",
       "<g id=\"node5\" class=\"node\"><title>4</title>\n",
       "<polygon fill=\"none\" stroke=\"black\" points=\"260,-53.5 168,-53.5 168,-0.5 260,-0.5 260,-53.5\"/>\n",
       "<text text-anchor=\"middle\" x=\"214\" y=\"-38.3\" font-family=\"Times,serif\" font-size=\"14.00\">mse = 0.0</text>\n",
       "<text text-anchor=\"middle\" x=\"214\" y=\"-23.3\" font-family=\"Times,serif\" font-size=\"14.00\">samples = 20</text>\n",
       "<text text-anchor=\"middle\" x=\"214\" y=\"-8.3\" font-family=\"Times,serif\" font-size=\"14.00\">value = 3.0</text>\n",
       "</g>\n",
       "<!-- 2&#45;&gt;4 -->\n",
       "<g id=\"edge4\" class=\"edge\"><title>2&#45;&gt;4</title>\n",
       "<path fill=\"none\" stroke=\"black\" d=\"M178.236,-89.7736C183.394,-80.8648 188.979,-71.2175 194.169,-62.2542\"/>\n",
       "<polygon fill=\"black\" stroke=\"black\" points=\"197.214,-63.9794 199.195,-53.5715 191.156,-60.4721 197.214,-63.9794\"/>\n",
       "</g>\n",
       "</g>\n",
       "</svg>\n"
      ],
      "text/plain": [
       "<graphviz.files.Source at 0x7fef666b8ba8>"
      ]
     },
     "execution_count": 5,
     "metadata": {},
     "output_type": "execute_result"
    }
   ],
   "source": [
    "dt=DecisionTreeRegressor(random_state=1)\n",
    "dt.fit(X,y)\n",
    "\n",
    "import graphviz\n",
    "tree.export_graphviz(dt,feature_names=[\"X1\",\"X2\"],out_file=\"tree.dot\")\n",
    "\n",
    "with open(\"tree.dot\") as f:\n",
    "    dot_graph = f.read()\n",
    "graphviz.Source(dot_graph)"
   ]
  },
  {
   "cell_type": "code",
   "execution_count": 6,
   "metadata": {},
   "outputs": [],
   "source": [
    "#Computing TreeSHAP feature attributions directly\n",
    "p1=0.55            #(=p1l+p1r)\n",
    "p1l=0.3            #(the probability of ending up at the bottom left square)\n",
    "p1r=0.25           #(the probability of ending up at the bottom right square)\n",
    "p2=0.25            #(the probability of ending up at the top left square)\n",
    "p3=0.2             #(the probability of ending up at the top right square)\n",
    "c1=1               #(leaf value for the bottom squares)   \n",
    "c2=2               #(leaf value for the top left square)\n",
    "c3=3               #(leaf value for the top right square)\n",
    "mean=p1*c1+p2*c2+p3*c3\n",
    "\n",
    "def TreeSHAP(X):                                #Computing TreeSHAP feature attribution for X_1 directly\n",
    "    if X[1]<0 and X[0]<0:                       #(Compare with Table 1 in the paper.)\n",
    "        difference=(p2+p3)*(c2-c1)                   \n",
    "    elif X[1]<0 and X[0]>0:\n",
    "        difference=(p2+p3)*(c3-c1)\n",
    "    elif X[0]<0:\n",
    "        difference=p1*c1+(p2+p3)*c2-(p2*c2+p3*c3)/(p2+p3)\n",
    "    else:\n",
    "        difference=p1*c1+(p2+p3)*c3-(p2*c2+p3*c3)/(p2+p3)\n",
    "    return 0.5*(difference+dt.predict(X.reshape(1,2))-mean)     \n",
    "\n",
    "def Marginal(X):\n",
    "    if X[1]<0 and X[0]<0:\n",
    "        difference=(p2+p3)*(c2-c1)                   \n",
    "    elif X[1]<0 and X[0]>0:\n",
    "        difference=(p2+p3)*(c3-c1)\n",
    "    elif X[0]<0:\n",
    "        difference=(c1-c2)*p1+(c2-c3)*(p1r+p3)\n",
    "    else:\n",
    "        difference=(c1-c3)*p1+(c3-c2)*(p1l+p2)\n",
    "    return 0.5*(difference+dt.predict(X.reshape(1,2))-mean)  "
   ]
  },
  {
   "cell_type": "code",
   "execution_count": 7,
   "metadata": {},
   "outputs": [],
   "source": [
    "explainer=shap.TreeExplainer(dt,feature_perturbation=\"tree_path_dependent\")\n",
    "treeshap_values=explainer.shap_values(X)\n",
    "\n",
    "explainer=shap.TreeExplainer(dt,feature_perturbation=\"interventional\",data=X)\n",
    "marginal_values=explainer.shap_values(X)"
   ]
  },
  {
   "cell_type": "code",
   "execution_count": 9,
   "metadata": {},
   "outputs": [
    {
     "name": "stdout",
     "output_type": "stream",
     "text": [
      "0.4027777777777778 [0.40277778]\n",
      "0.4 [0.4]\n"
     ]
    }
   ],
   "source": [
    "#We see that the output of SHAP package agrees with the our direct computation. \n",
    "i=random.randint(0,99)\n",
    "print(treeshap_values[i][0],TreeSHAP(X[i]))\n",
    "print(marginal_values[i][0],Marginal(X[i]))"
   ]
  },
  {
   "cell_type": "markdown",
   "metadata": {},
   "source": [
    "Now a symmetric tree trained on the same data."
   ]
  },
  {
   "cell_type": "code",
   "execution_count": 10,
   "metadata": {},
   "outputs": [
    {
     "name": "stdout",
     "output_type": "stream",
     "text": [
      "Learning rate set to 0.5\n",
      "0:\tlearn: 0.4664196\ttotal: 46.2ms\tremaining: 0us\n"
     ]
    },
    {
     "data": {
      "text/plain": [
       "{'leaf_values': [-0.2741379203467533,\n",
       "  0.15312501043081284,\n",
       "  -0.29545453461733734,\n",
       "  0.5394230874685141],\n",
       " 'leaf_weights': [26, 21, 30, 23],\n",
       " 'splits': [{'border': 0.2927708029747009,\n",
       "   'float_feature_index': 1,\n",
       "   'split_index': 1,\n",
       "   'split_type': 'FloatFeature'},\n",
       "  {'border': -0.2926782965660095,\n",
       "   'float_feature_index': 0,\n",
       "   'split_index': 0,\n",
       "   'split_type': 'FloatFeature'}]}"
      ]
     },
     "execution_count": 10,
     "metadata": {},
     "output_type": "execute_result"
    }
   ],
   "source": [
    "import catboost\n",
    "from catboost import CatBoostRegressor\n",
    "dt_symmetric=CatBoostRegressor(loss_function=\"RMSE\",num_trees=1,depth=2,eval_metric=\"RMSE\",random_seed=1)\n",
    "dt_symmetric.fit(X,y)\n",
    "\n",
    "dt_symmetric.save_model(\"mini_Regressor\",format=\"json\")\n",
    "f=open(\"mini_Regressor\")\n",
    "dictionary=json.load(f)\n",
    "dictionary['oblivious_trees'][0]\n",
    "\n",
    "#The split that appears at the end has occured the first. So here the symmetric tree first splits w.r.t. X_1\n",
    "#and then w.r.t. X_2\n",
    "#Leaf values -0.2741379203467533 and -0.29545453461733734 correspond to the two halves of the upper rectangle and \n",
    "#they are close, as expected. \n",
    "#(Leaf values are different from the predicted values c1,c2 etc. which are given by scale*(leaf value)+bias.\n",
    "#The scale and bias for the catboost model can be recovered from dt_symmetric.get_scale_and_bias().) "
   ]
  },
  {
   "cell_type": "code",
   "execution_count": 11,
   "metadata": {},
   "outputs": [],
   "source": [
    "y_pred=dt_symmetric.predict(X)\n",
    "\n",
    "#Computing TreeSHAP feature attributions directly. \n",
    "p1=0.55            #(=p1l+p1r)\n",
    "p1l=0.30           #(the probability of ending up at the bottom left square)\n",
    "p1r=0.25           #(the probability of ending up at the bottom right square)\n",
    "p2=0.25            #(the probability of ending up at the top left square)\n",
    "p3=0.20            #(the probability of ending up at the top right square)\n",
    "c1=np.average(y_pred[:55])               \n",
    "c2=np.average(y_pred[55:80])              \n",
    "c3=np.average(y_pred[80:])              \n",
    "mean=p1*c1+p2*c2+p3*c3\n",
    "\n",
    "def TreeSHAP_symmetric(X):                            #Computing TreeSHAP feature attribution for X_1 directly\n",
    "    if X[1]<0 and X[0]<0:                             #(Compare with Table 1 in the paper.)\n",
    "        difference=(p2/(p1l+p2))*(c2-c1)                   \n",
    "    elif X[1]<0 and X[0]>0:\n",
    "        difference=(p3/(p1r+p3))*(c3-c1)\n",
    "    elif X[0]<0:\n",
    "        difference=(p1l/(p1l+p2))*c1+(p2/(p1l+p2))*c2-(p1l+p2)*c2-(p1r+p3)*c3\n",
    "    else:\n",
    "        difference=(p1r/(p1r+p3))*c1+(p3/(p1r+p3))*c3-(p1l+p2)*c2-(p1r+p3)*c3\n",
    "    return 0.5*(difference+dt_symmetric.predict(X.reshape(1,2))-mean)     \n"
   ]
  },
  {
   "cell_type": "code",
   "execution_count": 12,
   "metadata": {},
   "outputs": [],
   "source": [
    "explainer=shap.TreeExplainer(dt_symmetric,feature_perturbation=\"tree_path_dependent\")\n",
    "treeshap_values=explainer.shap_values(X)\n",
    "\n",
    "# explainer=shap.TreeExplainer(dt_symmetric,feature_perturbation=\"interventional\",data=X)\n",
    "# marginal_values=explainer.shap_values(X)"
   ]
  },
  {
   "cell_type": "code",
   "execution_count": 16,
   "metadata": {},
   "outputs": [
    {
     "name": "stdout",
     "output_type": "stream",
     "text": [
      "0.1260498010634211 [0.14052094]\n"
     ]
    }
   ],
   "source": [
    "#Comparing the outcomes (those from TreeSHAP with those manually computed)\n",
    "i=random.randint(0,99)\n",
    "print(treeshap_values[i][0],TreeSHAP_symmetric(X[i]))"
   ]
  }
 ],
 "metadata": {
  "kernelspec": {
   "display_name": "Python 3",
   "language": "python",
   "name": "python3"
  },
  "language_info": {
   "codemirror_mode": {
    "name": "ipython",
    "version": 3
   },
   "file_extension": ".py",
   "mimetype": "text/x-python",
   "name": "python",
   "nbconvert_exporter": "python",
   "pygments_lexer": "ipython3",
   "version": "3.6.9"
  }
 },
 "nbformat": 4,
 "nbformat_minor": 4
}
