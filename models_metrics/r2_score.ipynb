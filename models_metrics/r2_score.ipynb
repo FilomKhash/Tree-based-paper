{
 "cells": [
  {
   "cell_type": "markdown",
   "metadata": {},
   "source": [
    "In this notebooke, we load data and models used for experiments in Section 4.2 and assess their performance on the test set. There are four triples of regressor/classifier ensembles: \n",
    "1) Models Regressor_CatBoost_1, Regressor_LightGBM_1 and Regressor_XGB_1 for the [Superconductivity dataset](https://archive.ics.uci.edu/ml/datasets/superconductivty+data). They are available along with the test set from the folder Experiment_1.\n",
    "\n",
    "2) Models Regressor_CatBoost_2, Regressor_LightGBM_2 and Regressor_XGB_2 for the [Ailerons dataset](https://www.dcc.fc.up.pt/~ltorgo/Regression/ailerons.html). They are available along with the test set from the folder Experiment_2. (The test set was specified by the data source.)\n",
    "\n",
    "3) Models Classifier_CatBoost_3, Classifier_LightGBM_3 and Classifier_XGB_3 for the [Online News Popularity dataset](https://archive.ics.uci.edu/ml/datasets/online+news+popularity). They are available along with the test set from the folder Experiment_3.\n",
    "\n",
    "4) Models Classifier_CatBoost_4, Classifier_LightGBM_4 and Classifier_XGB_4 for the [Higgs dataset](https://archive.ics.uci.edu/ml/datasets/HIGGS). They are available from the folder Experiment_4. (The test set is large, and should be downloaded from the data source.) "
   ]
  },
  {
   "cell_type": "code",
   "execution_count": 1,
   "metadata": {
    "execution": {
     "iopub.execute_input": "2023-08-01T19:43:32.681425Z",
     "iopub.status.busy": "2023-08-01T19:43:32.681170Z",
     "iopub.status.idle": "2023-08-01T19:43:35.623326Z",
     "shell.execute_reply": "2023-08-01T19:43:35.622758Z",
     "shell.execute_reply.started": "2023-08-01T19:43:32.681397Z"
    },
    "tags": []
   },
   "outputs": [
    {
     "data": {
      "text/html": [
       "<style type='text/css'>\n",
       ".datatable table.frame { margin-bottom: 0; }\n",
       ".datatable table.frame thead { border-bottom: none; }\n",
       ".datatable table.frame tr.coltypes td {  color: #FFFFFF;  line-height: 6px;  padding: 0 0.5em;}\n",
       ".datatable .bool    { background: #DDDD99; }\n",
       ".datatable .object  { background: #565656; }\n",
       ".datatable .int     { background: #5D9E5D; }\n",
       ".datatable .float   { background: #4040CC; }\n",
       ".datatable .str     { background: #CC4040; }\n",
       ".datatable .time    { background: #40CC40; }\n",
       ".datatable .row_index {  background: var(--jp-border-color3);  border-right: 1px solid var(--jp-border-color0);  color: var(--jp-ui-font-color3);  font-size: 9px;}\n",
       ".datatable .frame tbody td { text-align: left; }\n",
       ".datatable .frame tr.coltypes .row_index {  background: var(--jp-border-color0);}\n",
       ".datatable th:nth-child(2) { padding-left: 12px; }\n",
       ".datatable .hellipsis {  color: var(--jp-cell-editor-border-color);}\n",
       ".datatable .vellipsis {  background: var(--jp-layout-color0);  color: var(--jp-cell-editor-border-color);}\n",
       ".datatable .na {  color: var(--jp-cell-editor-border-color);  font-size: 80%;}\n",
       ".datatable .sp {  opacity: 0.25;}\n",
       ".datatable .footer { font-size: 9px; }\n",
       ".datatable .frame_dimensions {  background: var(--jp-border-color3);  border-top: 1px solid var(--jp-border-color0);  color: var(--jp-ui-font-color3);  display: inline-block;  opacity: 0.6;  padding: 1px 10px 1px 5px;}\n",
       "</style>\n"
      ],
      "text/plain": [
       "<IPython.core.display.HTML object>"
      ]
     },
     "metadata": {},
     "output_type": "display_data"
    }
   ],
   "source": [
    "import sklearn\n",
    "import pandas as pd\n",
    "import numpy as np\n",
    "import shap\n",
    "import json \n",
    "import random \n",
    "import matplotlib.pyplot as plt\n",
    "import pickle\n",
    "import warnings\n",
    "\n",
    "import catboost\n",
    "import lightgbm\n",
    "import xgboost\n",
    "\n",
    "from catboost import CatBoostRegressor, CatBoostClassifier\n",
    "from lightgbm import LGBMRegressor, LGBMClassifier \n",
    "from xgboost import XGBRegressor, XGBClassifier\n",
    "\n",
    "from sklearn.metrics import explained_variance_score, r2_score, roc_auc_score"
   ]
  },
  {
   "cell_type": "markdown",
   "metadata": {},
   "source": [
    "The cell below loads the models and the test set for an experiment. Only experiment_number should be declared (a number between 1 and 4)."
   ]
  },
  {
   "cell_type": "code",
   "execution_count": 2,
   "metadata": {
    "execution": {
     "iopub.execute_input": "2023-08-01T19:43:56.041218Z",
     "iopub.status.busy": "2023-08-01T19:43:56.040979Z",
     "iopub.status.idle": "2023-08-01T19:43:57.816959Z",
     "shell.execute_reply": "2023-08-01T19:43:57.816042Z",
     "shell.execute_reply.started": "2023-08-01T19:43:56.041194Z"
    },
    "tags": []
   },
   "outputs": [],
   "source": [
    "#We load the first dataset and the first triple of models. \n",
    "#For the other experiments, change experiment_number accordingly. \n",
    "\n",
    "experiment_number=1\n",
    "\n",
    "if experiment_number==1 or experiment_number==2:\n",
    "    model_type='Regressor'\n",
    "elif experiment_number==3 or experiment_number==4:\n",
    "    model_type='Classifier'\n",
    "else:\n",
    "    raise ValueError('experiment_number should be 1,2,3 or 4.')\n",
    "    \n",
    "if experiment_number==4:\n",
    "     warnings.warn('Warning: The test set for the Higgs dataset should be downloaded from the data source.')\n",
    "    \n",
    "path='./Experiment_'+str(experiment_number)+'/'\n",
    "\n",
    "X_test=pd.read_csv(path+'test.csv').iloc[:,:-1]\n",
    "y_test=pd.read_csv(path+'test.csv').iloc[:,-1]\n",
    "\n",
    "model_cat=pickle.load(open(path+model_type+'_CatBoost_'+str(experiment_number),'rb'))\n",
    "#The catboost model is provided as pickle here to avoid issues with loading and calling predict. \n",
    "#https://github.com/catboost/catboost/issues/696\n",
    "\n",
    "\n",
    "model_lgbm=pickle.load(open(path+model_type+'_LightGBM_'+str(experiment_number),'rb'))\n",
    "#The lightgbm model is provided as pickle.\n",
    "\n",
    "if model_type=='Regressor':\n",
    "    model_xgb=XGBRegressor()\n",
    "    model_xgb.load_model(path+model_type+'_XGB_'+str(experiment_number)+'.model') \n",
    "else:\n",
    "    model_xgb=XGBClassifier()\n",
    "    model_xgb.load_model(path+model_type+'_XGB_'+str(experiment_number)+'.model')\n",
    "#The XGBoost is provided as a .model file.\n",
    "#https://github.com/dmlc/xgboost/issues/6264"
   ]
  },
  {
   "cell_type": "code",
   "execution_count": 3,
   "metadata": {
    "execution": {
     "iopub.execute_input": "2023-08-01T19:44:05.054087Z",
     "iopub.status.busy": "2023-08-01T19:44:05.053852Z",
     "iopub.status.idle": "2023-08-01T19:44:05.060590Z",
     "shell.execute_reply": "2023-08-01T19:44:05.060037Z",
     "shell.execute_reply.started": "2023-08-01T19:44:05.054065Z"
    },
    "tags": []
   },
   "outputs": [
    {
     "name": "stdout",
     "output_type": "stream",
     "text": [
      "\n",
      "CatBoost model's hyperparameters: {'use_best_model': True, 'eval_metric': 'RMSE', 'iterations': 300, 'verbose': 50, 'logging_level': 'Verbose', 'loss_function': 'RMSE', 'depth': 8, 'random_seed': 1, 'num_trees': 300}\n",
      "\n",
      "LightGBM model's hyperparameters: {'boosting_type': 'gbdt', 'class_weight': None, 'colsample_bytree': 1.0, 'importance_type': 'split', 'learning_rate': 0.1, 'max_depth': -1, 'min_child_samples': 20, 'min_child_weight': 0.001, 'min_split_gain': 0.0, 'n_estimators': 300, 'n_jobs': -1, 'num_leaves': 31, 'objective': None, 'random_state': 1, 'reg_alpha': 0.0, 'reg_lambda': 0.0, 'silent': 'warn', 'subsample': 1.0, 'subsample_for_bin': 200000, 'subsample_freq': 0}\n",
      "\n",
      "XGBoost model's hyperparameters: {'objective': 'reg:squarederror', 'base_score': 0.5, 'booster': 'gbtree', 'colsample_bylevel': 1, 'colsample_bynode': 1, 'colsample_bytree': 1, 'enable_categorical': False, 'gamma': 0, 'gpu_id': -1, 'importance_type': None, 'interaction_constraints': '', 'learning_rate': 0.300000012, 'max_delta_step': 0, 'max_depth': 6, 'min_child_weight': 1, 'missing': nan, 'monotone_constraints': '()', 'n_estimators': 300, 'n_jobs': 48, 'num_parallel_tree': 1, 'predictor': 'auto', 'random_state': 1, 'reg_alpha': 0, 'reg_lambda': 1, 'scale_pos_weight': 1, 'subsample': 1, 'tree_method': 'auto', 'validate_parameters': 1, 'verbosity': None}\n"
     ]
    }
   ],
   "source": [
    "#Printing models' hyperparameters\n",
    "print(\"\\nCatBoost model's hyperparameters:\",model_cat._get_params())\n",
    "print(\"\\nLightGBM model's hyperparameters:\",model_lgbm.get_params())\n",
    "print(\"\\nXGBoost model's hyperparameters:\",model_xgb.get_params())"
   ]
  },
  {
   "cell_type": "code",
   "execution_count": 4,
   "metadata": {
    "execution": {
     "iopub.execute_input": "2023-08-01T19:44:08.211709Z",
     "iopub.status.busy": "2023-08-01T19:44:08.211491Z",
     "iopub.status.idle": "2023-08-01T19:44:08.287096Z",
     "shell.execute_reply": "2023-08-01T19:44:08.286461Z",
     "shell.execute_reply.started": "2023-08-01T19:44:08.211689Z"
    },
    "tags": []
   },
   "outputs": [],
   "source": [
    "#The prediction vectors:\n",
    "if model_type=='Regressor':\n",
    "    y_pred_cat=model_cat.predict(X_test)  \n",
    "    y_pred_lgbm=model_lgbm.predict(X_test)  \n",
    "    y_pred_xgb=model_xgb.predict(X_test)\n",
    "else:\n",
    "    y_pred_cat=model_cat.predict_proba(X_test)[:,1]\n",
    "    y_pred_lgbm=model_lgbm.predict_proba(X_test)[:,1] \n",
    "    y_pred_xgb=model_xgb.predict_proba(X_test)[:,1]\n"
   ]
  },
  {
   "cell_type": "code",
   "execution_count": 5,
   "metadata": {
    "execution": {
     "iopub.execute_input": "2023-08-01T19:44:10.042483Z",
     "iopub.status.busy": "2023-08-01T19:44:10.042248Z",
     "iopub.status.idle": "2023-08-01T19:44:10.049864Z",
     "shell.execute_reply": "2023-08-01T19:44:10.049330Z",
     "shell.execute_reply.started": "2023-08-01T19:44:10.042460Z"
    },
    "tags": []
   },
   "outputs": [
    {
     "name": "stdout",
     "output_type": "stream",
     "text": [
      "0.9206\n",
      "0.9212\n",
      "0.9166\n"
     ]
    }
   ],
   "source": [
    "#The models have reasonable predictive power:\n",
    "if model_type=='Regressor':\n",
    "    print(round(r2_score(y_pred=y_pred_cat,y_true=y_test),4))\n",
    "    print(round(r2_score(y_pred=y_pred_lgbm,y_true=y_test),4))\n",
    "    print(round(r2_score(y_pred=y_pred_xgb,y_true=y_test),4))\n",
    "\n",
    "if model_type=='Classifier':\n",
    "    print(round(roc_auc_score(y_score=y_pred_cat,y_true=y_test),4))\n",
    "    print(round(roc_auc_score(y_score=y_pred_lgbm,y_true=y_test),4))\n",
    "    print(round(roc_auc_score(y_score=y_pred_xgb,y_true=y_test),4))"
   ]
  },
  {
   "cell_type": "code",
   "execution_count": 6,
   "metadata": {
    "execution": {
     "iopub.execute_input": "2023-08-01T19:44:11.900953Z",
     "iopub.status.busy": "2023-08-01T19:44:11.900678Z",
     "iopub.status.idle": "2023-08-01T19:44:11.909323Z",
     "shell.execute_reply": "2023-08-01T19:44:11.908776Z",
     "shell.execute_reply.started": "2023-08-01T19:44:11.900930Z"
    },
    "tags": []
   },
   "outputs": [
    {
     "name": "stdout",
     "output_type": "stream",
     "text": [
      "0.9905\n",
      "0.9788\n",
      "0.9904\n",
      "0.9814\n",
      "0.978\n",
      "0.9809\n"
     ]
    }
   ],
   "source": [
    "#The outputs of the models over the test set are very close (in terms of the r2 score):\n",
    "print(round(r2_score(y_true=y_pred_lgbm,y_pred=y_pred_cat),4))\n",
    "print(round(r2_score(y_true=y_pred_xgb,y_pred=y_pred_cat),4))\n",
    "print(round(r2_score(y_true=y_pred_cat,y_pred=y_pred_lgbm),4))\n",
    "print(round(r2_score(y_true=y_pred_xgb,y_pred=y_pred_lgbm),4))\n",
    "print(round(r2_score(y_true=y_pred_cat,y_pred=y_pred_xgb),4))\n",
    "print(round(r2_score(y_true=y_pred_lgbm,y_pred=y_pred_xgb),4))"
   ]
  },
  {
   "cell_type": "code",
   "execution_count": 7,
   "metadata": {
    "execution": {
     "iopub.execute_input": "2023-08-01T19:44:14.420911Z",
     "iopub.status.busy": "2023-08-01T19:44:14.420643Z",
     "iopub.status.idle": "2023-08-01T19:44:14.429379Z",
     "shell.execute_reply": "2023-08-01T19:44:14.428838Z",
     "shell.execute_reply.started": "2023-08-01T19:44:14.420888Z"
    },
    "tags": []
   },
   "outputs": [
    {
     "name": "stdout",
     "output_type": "stream",
     "text": [
      "0.9904\n",
      "0.978\n",
      "0.9905\n",
      "0.9809\n",
      "0.9788\n",
      "0.9814\n"
     ]
    }
   ],
   "source": [
    "#The outputs of the models over the test set are very close (in terms of the explained variance score):\n",
    "print(round(explained_variance_score(y_true=y_pred_cat,y_pred=y_pred_lgbm),4))\n",
    "print(round(explained_variance_score(y_true=y_pred_cat,y_pred=y_pred_xgb),4))\n",
    "print(round(explained_variance_score(y_true=y_pred_lgbm,y_pred=y_pred_cat),4))\n",
    "print(round(explained_variance_score(y_true=y_pred_lgbm,y_pred=y_pred_xgb),4))\n",
    "print(round(explained_variance_score(y_true=y_pred_xgb,y_pred=y_pred_cat),4))\n",
    "print(round(explained_variance_score(y_true=y_pred_xgb,y_pred=y_pred_lgbm),4))"
   ]
  }
 ],
 "metadata": {
  "kernelspec": {
   "display_name": "Python 3 (ipykernel)",
   "language": "python",
   "name": "python3"
  },
  "language_info": {
   "codemirror_mode": {
    "name": "ipython",
    "version": 3
   },
   "file_extension": ".py",
   "mimetype": "text/x-python",
   "name": "python",
   "nbconvert_exporter": "python",
   "pygments_lexer": "ipython3",
   "version": "3.11.5"
  }
 },
 "nbformat": 4,
 "nbformat_minor": 4
}
